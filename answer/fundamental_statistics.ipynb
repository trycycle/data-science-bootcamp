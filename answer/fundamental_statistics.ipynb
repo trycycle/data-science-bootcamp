{
 "cells": [
  {
   "cell_type": "markdown",
   "metadata": {},
   "source": [
    "## 第2章 基本統計量\n",
    "Op1では、以下の変数valuesに格納された実数データの統計量を求める。\n",
    "\n",
    "> values = [16, 14, 7, 28, 151, 170, -105, 40, -14, -7, 128, 40, 15, 92, 28, 6, 122, 98, 6, 132, 15, 50, -3, 36, 38, 48, 34, 45, 14, 11, 14, 23, 22, 41, 159, 94, 116, 16, 125, 143, 104, 10, 33, -6, 156, 31, 5, 6, 18, 26, 128, 122, 19, 8, 22, 17, 92, 25, 34, 123, 23, 143, -31, 149, 28, -1, 107, 20, 26, 11, 10, 131, 67, 47, 11, 54, 142, 2, 117, -111, 46, 26, -9, 123, 155, 69, -5, 156, 87, 122, 150, 103, 25, 25, -63, 109, 66, 36, 118, 13, 17, 30, 122, 22, 167, 144, 69, 132, 149, 25, 145, 6, 137, 5, -12, 21, 152, 147, 22, 124, 10, 144, 93, 13, 52, 9, 110, 122, 157, 28, -65, 108, 144, 27, 137, 111, 118, 23, 123, 155, 156, 115, 70, 171, 122, 8, 14, 32, 2, -10, 156, 12, 11, 22, 15, 45, 18, 139, -35, 132, 120, 145, 24, -1, 7, 24, 26, -37, 155, -35, 30, 129, -19, 25, 28, 13, 31, -66, 31, 147, 31, -37, 19, 24, 143, 13, 23, 176, 139, -31, 40, 7, 174, 28, 148, 152, 152, 29, 20, 23, 163, 32, 152, 157, 36, 21, 114, 24, 148, 1, 33, -2, 101, 131, 36, 147, 13, 146, 129, 27, 2, 116, 130, 7, 47, 71, 62, 43, 14, 119, 41, 118, 177, 103, 18, 141, 135, 96, 113, 128, 52, 17, 5, 11, 49, -19, -80, 28, 15, 160, 28, 51, 143, 29, 149, 6, 43, 12, 93, 104, 14, 36, 9, 13, 43, 2, 0, 13, 13, 66, 111, 37, 8, 170, -91, 160, 22, 44, -42, -22, 18, 180, 135, 126, 142, 119, 17, 139, 197, 1, -14, 154, 136, -35, 20, -13, 127, 73, 58, 42, 0]\n",
    "\n",
    "\n",
    "以下の設問について回答せよ。なお、本課題を含め、このセクションの課題ではstatisticsライブラリ、numpyライブラリを用いてはならない。累乗計算にはmathライブラリを用いること。"
   ]
  },
  {
   "cell_type": "code",
   "execution_count": 1,
   "metadata": {},
   "outputs": [],
   "source": [
    "import numpy as np\n",
    "import math\n",
    "values = [16, 14, 7, 28, 151, 170, -105, 40, -14, -7, 128, 40, 15, 92, 28, 6, 122, 98, 6, 132, 15, 50, -3, 36, 38, 48, 34, 45, 14, 11, 14, 23, 22, 41, 159, 94, 116, 16, 125, 143, 104, 10, 33, -6, 156, 31, 5, 6, 18, 26, 128, 122, 19, 8, 22, 17, 92, 25, 34, 123, 23, 143, -31, 149, 28, -1, 107, 20, 26, 11, 10, 131, 67, 47, 11, 54, 142, 2, 117, -111, 46, 26, -9, 123, 155, 69, -5, 156, 87, 122, 150, 103, 25, 25, -63, 109, 66, 36, 118, 13, 17, 30, 122, 22, 167, 144, 69, 132, 149, 25, 145, 6, 137, 5, -12, 21, 152, 147, 22, 124, 10, 144, 93, 13, 52, 9, 110, 122, 157, 28, -65, 108, 144, 27, 137, 111, 118, 23, 123, 155, 156, 115, 70, 171, 122, 8, 14, 32, 2, -10, 156, 12, 11, 22, 15, 45, 18, 139, -35, 132, 120, 145, 24, -1, 7, 24, 26, -37, 155, -35, 30, 129, -19, 25, 28, 13, 31, -66, 31, 147, 31, -37, 19, 24, 143, 13, 23, 176, 139, -31, 40, 7, 174, 28, 148, 152, 152, 29, 20, 23, 163, 32, 152, 157, 36, 21, 114, 24, 148, 1, 33, -2, 101, 131, 36, 147, 13, 146, 129, 27, 2, 116, 130, 7, 47, 71, 62, 43, 14, 119, 41, 118, 177, 103, 18, 141, 135, 96, 113, 128, 52, 17, 5, 11, 49, -19, -80, 28, 15, 160, 28, 51, 143, 29, 149, 6, 43, 12, 93, 104, 14, 36, 9, 13, 43, 2, 0, 13, 13, 66, 111, 37, 8, 170, -91, 160, 22, 44, -42, -22, 18, 180, 135, 126, 142, 119, 17, 139, 197, 1, -14, 154, 136, -35, 20, -13, 127, 73, 58, 42, 0]"
   ]
  },
  {
   "cell_type": "markdown",
   "metadata": {},
   "source": [
    "### Q11. 最小値、最大値\n",
    "実数が格納されたリストlを受け取ったときに、その実数データの最大値を返す関数maximum、および最小値を返す関数minimumをそれぞれ実装せよ（ただし、max関数、min関数を用いてはならない）。さらに、実装した関数maximum、minimumを用いて、変数valuesに格納された実数の最大値および最小値を求めよ。"
   ]
  },
  {
   "cell_type": "code",
   "execution_count": 2,
   "metadata": {},
   "outputs": [
    {
     "name": "stdout",
     "output_type": "stream",
     "text": [
      "197 197\n",
      "-111 -111\n"
     ]
    }
   ],
   "source": [
    "def maximum(l):\n",
    "    result = l[0]\n",
    "    for e in l:\n",
    "        if result <= e:\n",
    "            result = e\n",
    "    return result\n",
    "\n",
    "def minimum(l):\n",
    "    result = l[0]\n",
    "    for e in l:\n",
    "        if result >= e:\n",
    "            result = e\n",
    "    return result\n",
    "    \n",
    "\n",
    "-maximum(values)\n",
    "minimum(values)\n",
    "\n",
    "# 検算\n",
    "print(maximum(values), max(values)) \n",
    "print(minimum(values), min(values)) "
   ]
  },
  {
   "cell_type": "markdown",
   "metadata": {},
   "source": [
    "### Q12. 平均\n",
    "実数が格納されたリストlを受け取ったときに、その実数データの平均を返す関数meanを実装せよ。さらに、実装した関数meanを用いて、変数valuesに格納された実数の平均を求めよ。"
   ]
  },
  {
   "cell_type": "code",
   "execution_count": 3,
   "metadata": {},
   "outputs": [
    {
     "name": "stdout",
     "output_type": "stream",
     "text": [
      "60.39867109634552 60.3986710963\n"
     ]
    }
   ],
   "source": [
    "def calc_sum(l):\n",
    "    result = 0\n",
    "    for e in l:\n",
    "        result += e\n",
    "    return result\n",
    "\n",
    "def mean(l):\n",
    "    length = len(l)\n",
    "    return calc_sum(l) / length\n",
    "\n",
    "mean(values)\n",
    "\n",
    "# 検算\n",
    "print(mean(values), np.mean(values)) "
   ]
  },
  {
   "cell_type": "markdown",
   "metadata": {},
   "source": [
    "### Q13. 分散\n",
    "実数が格納されたリストlを受け取ったときに、その実数データの分散を返す関数varを実装せよ。さらに、実装した関数varを用いて、変数valuesに格納された実数の分散を求めよ。"
   ]
  },
  {
   "cell_type": "code",
   "execution_count": 4,
   "metadata": {},
   "outputs": [
    {
     "name": "stdout",
     "output_type": "stream",
     "text": [
      "4016.88425072571 4016.88425073\n"
     ]
    }
   ],
   "source": [
    "def var(l):\n",
    "    mu = mean(l)\n",
    "    length = len(l)\n",
    "    return calc_sum([(e - mu) ** 2 for e in l]) / length\n",
    "\n",
    "var(values)\n",
    "\n",
    "# 検算\n",
    "print(var(values), np.var(values)) "
   ]
  },
  {
   "cell_type": "markdown",
   "metadata": {},
   "source": [
    "### Q14. 標準偏差\n",
    "実数が格納されたリストlを受け取ったときに、その実数データの標準偏差を返す関数stdを実装せよ。さらに、実装した関数stdを用いて、変数valuesに格納された実数の標準偏差を求めよ。"
   ]
  },
  {
   "cell_type": "code",
   "execution_count": 5,
   "metadata": {},
   "outputs": [
    {
     "name": "stdout",
     "output_type": "stream",
     "text": [
      "63.3788943633897 63.3788943634\n"
     ]
    }
   ],
   "source": [
    "def std(l):\n",
    "    return math.sqrt(var(l))\n",
    "\n",
    "std(values)\n",
    "\n",
    "# 検算\n",
    "print(std(values), np.std(values)) "
   ]
  },
  {
   "cell_type": "markdown",
   "metadata": {},
   "source": [
    "### Q15. 最頻値\n",
    "実数が格納されたリストlを受け取ったときに、その実数データの最頻値を返す関数modeを実装せよ。\n",
    "さらに、実装した関数modeを用いて、変数valuesに格納された実数の最頻値を求めよ。\n",
    "\n"
   ]
  },
  {
   "cell_type": "code",
   "execution_count": 6,
   "metadata": {},
   "outputs": [
    {
     "name": "stdout",
     "output_type": "stream",
     "text": [
      "13 [(28, 8)]\n"
     ]
    }
   ],
   "source": [
    "def mode(l):\n",
    "    freq = {}\n",
    "    for e in l:\n",
    "        freq.setdefault(e, 0)\n",
    "        freq[e] += 1\n",
    "\n",
    "    most_frequent_data = sorted(freq.items(), key=lambda x:x[1]).pop()\n",
    "    return most_frequent_data[0]\n",
    "\n",
    "mode(values)\n",
    "\n",
    "# 検算\n",
    "from collections import Counter\n",
    "print(mode(values), Counter(values).most_common(1)) "
   ]
  },
  {
   "cell_type": "markdown",
   "metadata": {},
   "source": [
    "\n",
    "### Q16. 最頻値2\n",
    "Q15.で実装した関数modeを改良し、最頻値が複数存在する場合にその最大値を返すようにせよ。\n",
    "\n"
   ]
  },
  {
   "cell_type": "code",
   "execution_count": 7,
   "metadata": {},
   "outputs": [
    {
     "data": {
      "text/plain": [
       "28"
      ]
     },
     "execution_count": 7,
     "metadata": {},
     "output_type": "execute_result"
    }
   ],
   "source": [
    "def mode(l):\n",
    "    freq = {}\n",
    "    for e in l:\n",
    "        freq.setdefault(e, 0)\n",
    "        freq[e] += 1\n",
    "\n",
    "    most_frequent_values = []\n",
    "    max_frequency = 0\n",
    "    for val, freq in sorted(freq.items(), key=lambda x:x[1], reverse=True):\n",
    "        if max_frequency <= freq:\n",
    "            most_frequent_values.append(val)\n",
    "            max_frequency = freq\n",
    "        else:\n",
    "            break\n",
    "        \n",
    "    return max(most_frequent_values)\n",
    "\n",
    "mode(values)\n",
    "\n",
    "# 検算\n",
    "#from collections import Counter\n",
    "#print(mode(values), Counter(values).most_common(2)) "
   ]
  },
  {
   "cell_type": "markdown",
   "metadata": {},
   "source": [
    "### Q17. 中央値\n",
    "実数が格納されたリストlを受け取ったときに、その実数データの中央値を返す関数medianを実装せよ。なお、データの個数が偶数の場合は、中央に近い値2つの平均を返すようにせよ。さらに、実装した関数medianを用いて、変数valuesに格納された実数の中央値を求めよ。\n",
    "\n"
   ]
  },
  {
   "cell_type": "code",
   "execution_count": 8,
   "metadata": {},
   "outputs": [
    {
     "name": "stdout",
     "output_type": "stream",
     "text": [
      "36 36.0\n"
     ]
    }
   ],
   "source": [
    "def median(l):\n",
    "    sorted_list = sorted(l)\n",
    "    \n",
    "    # lに含まれる実数の個数が奇数の時\n",
    "    if len(l) % 2 == 1:\n",
    "        median_index = int(math.floor(len(l) / 2) + 1)\n",
    "        result = sorted_list[median_index]\n",
    "    # lに含まれる実数の個数が偶数の時\n",
    "    else:\n",
    "        right_median_index = int(len(l) / 2)\n",
    "        result = (sorted_list[right_median_index - 1] + sorted_list[right_median_index]) / 2\n",
    "\n",
    "    return result\n",
    "        \n",
    "median(values)\n",
    "\n",
    "# 検算\n",
    "print(median(values), np.median(values)) "
   ]
  },
  {
   "cell_type": "markdown",
   "metadata": {},
   "source": [
    "### Q18. 度数\n",
    "実数が格納されたリストlを受け取ったときに、lに含まれる実数のうち、値が実数値xからy（ただし、x <= y）の範囲内にある数の個数（度数）を返す関数freq(l, x, y)を実装せよ。さらに、実装した関数freqを用いて、変数valuesに格納された実数のうち、値が10から20の範囲内にある数の度数を求めよ。\n",
    "\n"
   ]
  },
  {
   "cell_type": "code",
   "execution_count": 9,
   "metadata": {},
   "outputs": [
    {
     "name": "stdout",
     "output_type": "stream",
     "text": [
      "40\n"
     ]
    }
   ],
   "source": [
    "def freq(l, x, y):\n",
    "    if x > y:\n",
    "        return None\n",
    "    else:\n",
    "        result = 0\n",
    "        for e in l:\n",
    "            if e >= x and e < y:\n",
    "                result += 1\n",
    "        else:\n",
    "            return result\n",
    "        \n",
    "print(freq(values, 10, 20))"
   ]
  },
  {
   "cell_type": "markdown",
   "metadata": {},
   "source": [
    "### Q19. 階級\n",
    "実数が格納されたリストlに含まれる数の最小値をx、最大値をyとする。区間(x, y)をn個に均等分割したとき、それぞれの区間の始まりと終わりの値のペアのリストを返す関数bins(l, n)を定義せよ。（例えば、l=[-2, -10, 3, 10, 5]が与えられたとき、関数bins(l, 2)は[(-10, 0), (0, 10)]を返す）\n",
    "\n",
    "さらに、変数valuesに格納された数の最小値xと最大値yを両端とする区間を20個に均等分割したときの、各区間の始まりと終わりの値のペアのリストを、関数binsを用いて求めよ。"
   ]
  },
  {
   "cell_type": "code",
   "execution_count": 10,
   "metadata": {},
   "outputs": [
    {
     "data": {
      "text/plain": [
       "[[-111, -95.6],\n",
       " [-95.6, -80.19999999999999],\n",
       " [-80.19999999999999, -64.79999999999998],\n",
       " [-64.79999999999998, -49.399999999999984],\n",
       " [-49.399999999999984, -33.999999999999986],\n",
       " [-33.999999999999986, -18.599999999999987],\n",
       " [-18.599999999999987, -3.199999999999987],\n",
       " [-3.199999999999987, 12.200000000000014],\n",
       " [12.200000000000014, 27.600000000000016],\n",
       " [27.600000000000016, 43.000000000000014],\n",
       " [43.000000000000014, 58.40000000000001],\n",
       " [58.40000000000001, 73.80000000000001],\n",
       " [73.80000000000001, 89.20000000000002],\n",
       " [89.20000000000002, 104.60000000000002],\n",
       " [104.60000000000002, 120.00000000000003],\n",
       " [120.00000000000003, 135.40000000000003],\n",
       " [135.40000000000003, 150.80000000000004],\n",
       " [150.80000000000004, 166.20000000000005],\n",
       " [166.20000000000005, 181.60000000000005],\n",
       " [181.60000000000005, 197.00000000000006]]"
      ]
     },
     "execution_count": 10,
     "metadata": {},
     "output_type": "execute_result"
    }
   ],
   "source": [
    "def bins(l, n):\n",
    "    min_val = minimum(l)\n",
    "    max_val = maximum(l)\n",
    "    \n",
    "    delta = max_val - min_val\n",
    "    interval = delta / n\n",
    "    \n",
    "    left_edge = min_val\n",
    "    results = []\n",
    "    for i in range(n):\n",
    "        right_edge = left_edge + interval\n",
    "        results.append([left_edge, right_edge])\n",
    "        left_edge = right_edge\n",
    "        \n",
    "    return results\n",
    "              \n",
    "bins(values, 20)"
   ]
  },
  {
   "cell_type": "markdown",
   "metadata": {},
   "source": [
    "### Q20. ヒストグラム\n",
    "実数が格納されたリストlに含まれる数の最小値をx、最大値をyとする。区間(x, y)をn個に均等分割したとき、lに含まれる数のうち、それぞれの区間内に収まる数の個数を求め、その個数を以下のようにアスタリスク(\\*)で可視化する関数histogram(l, n)を実装せよ。\n",
    "\n",
    "さらに、関数histogramを用いて、変数valuesに格納された数の最小値xと最大値yを両端とする区間を20個に均等分割したときの各区間に収まる数の個数を可視化せよ。\n",
    "\n",
    "##### l = [0, 1, 3, 11, 13, 13, 21, 27, 27, 28, 29, 33, 39, 42, 50]にhistogram(l, 5)を適用した例\n",
    "```\n",
    "    ( 0, 10) **\n",
    "    (10, 20) ***\n",
    "    (20, 30) *****\n",
    "    (30, 40) **\n",
    "    (40, 50) **\n",
    "```"
   ]
  },
  {
   "cell_type": "code",
   "execution_count": 11,
   "metadata": {
    "scrolled": false
   },
   "outputs": [
    {
     "name": "stdout",
     "output_type": "stream",
     "text": [
      "(-111,  -96)\t**\n",
      "( -96,  -80)\t*\n",
      "( -80,  -65)\t***\n",
      "( -65,  -49)\t*\n",
      "( -49,  -34)\t******\n",
      "( -34,  -19)\t*****\n",
      "( -19,   -3)\t*********\n",
      "(  -3,   12)\t***************************************\n",
      "(  12,   28)\t*************************************************************\n",
      "(  28,   43)\t**************************************\n",
      "(  43,   58)\t**************\n",
      "(  58,   74)\t*********\n",
      "(  74,   89)\t*\n",
      "(  89,  105)\t************\n",
      "( 105,  120)\t******************\n",
      "( 120,  135)\t**************************\n",
      "( 135,  151)\t****************************\n",
      "( 151,  166)\t*******************\n",
      "( 166,  182)\t********\n",
      "( 182,  197)\t*\n"
     ]
    }
   ],
   "source": [
    "def histogram(l, n):\n",
    "    bin_list = bins(l, n)\n",
    "    \n",
    "    for left_edge, right_edge in bin_list:\n",
    "        f = freq(l, left_edge, right_edge)\n",
    "        print(\"({left:4.0f}, {right:4.0f})\\t{stars}\".format(left=left_edge,\n",
    "                                                          right=right_edge,\n",
    "                                                          stars=\"*\" * f))\n",
    "\n",
    "histogram(values, 20)"
   ]
  }
 ],
 "metadata": {
  "kernelspec": {
   "display_name": "Python 3",
   "language": "python",
   "name": "python3"
  },
  "language_info": {
   "codemirror_mode": {
    "name": "ipython",
    "version": 3
   },
   "file_extension": ".py",
   "mimetype": "text/x-python",
   "name": "python",
   "nbconvert_exporter": "python",
   "pygments_lexer": "ipython3",
   "version": "3.6.3"
  }
 },
 "nbformat": 4,
 "nbformat_minor": 2
}

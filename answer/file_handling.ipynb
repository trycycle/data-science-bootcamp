{
 "cells": [
  {
   "cell_type": "markdown",
   "metadata": {},
   "source": [
    "# 第3章 ファイル操作 & 文字列操作"
   ]
  },
  {
   "cell_type": "markdown",
   "metadata": {},
   "source": [
    "### ライブラリの準備\n",
    "本セクションではjqueryライクにXML/HTMLを解析する[pyquery](http://pythonhosted.org/pyquery/)を使用します。ターミナル/コマンドプロンプト上で下記コマンドを実行し、上記ライブラリをインストールしてください。"
   ]
  },
  {
   "cell_type": "code",
   "execution_count": 1,
   "metadata": {},
   "outputs": [
    {
     "ename": "SyntaxError",
     "evalue": "invalid syntax (<ipython-input-1-1048dc38764a>, line 1)",
     "output_type": "error",
     "traceback": [
      "\u001b[0;36m  File \u001b[0;32m\"<ipython-input-1-1048dc38764a>\"\u001b[0;36m, line \u001b[0;32m1\u001b[0m\n\u001b[0;31m    $ cd data-science-bootcamp\u001b[0m\n\u001b[0m    ^\u001b[0m\n\u001b[0;31mSyntaxError\u001b[0m\u001b[0;31m:\u001b[0m invalid syntax\n"
     ]
    }
   ],
   "source": [
    "$ cd data-science-bootcamp\n",
    "$ pip install pyquery   # pyqueryライブラリ"
   ]
  },
  {
   "cell_type": "markdown",
   "metadata": {},
   "source": [
    "---"
   ]
  },
  {
   "cell_type": "markdown",
   "metadata": {},
   "source": [
    "### Q11. 文字列から日時オブジェクトへの変換\n",
    "\"2017年12月8日 9時23分16秒\"という文字列を、datetimeオブジェクトに変換せよ。"
   ]
  },
  {
   "cell_type": "code",
   "execution_count": null,
   "metadata": {},
   "outputs": [],
   "source": [
    "import datetime\n",
    "\n",
    "date = datetime.datetime.strptime(\"2017年12月8日 9時23分16秒\", '%Y年%m月%d日 %H時%M分%S秒')\n",
    "print(date)"
   ]
  },
  {
   "cell_type": "markdown",
   "metadata": {},
   "source": [
    "### Q12. 日時計算 & 日時表示: Hello, Mac!\n",
    "「2017年12月8日9時23分16秒」から「12371日と23時間23分16秒」戻った日時を求め、\"X年Y月Z日\"という文字列で表示せよ。"
   ]
  },
  {
   "cell_type": "code",
   "execution_count": null,
   "metadata": {},
   "outputs": [],
   "source": [
    "import datetime\n",
    "\n",
    "date = datetime.datetime.strptime(\"2017年12月8日9時23分16秒\", '%Y年%m月%d日%H時%M分%S秒')\n",
    "delta = datetime.timedelta(days=12371, hours=23, minutes=23, seconds=16)\n",
    "result_date = date - delta\n",
    "\n",
    "result = datetime.datetime.strftime(result_date, '%Y年%m月%d日')\n",
    "print(result)"
   ]
  },
  {
   "cell_type": "markdown",
   "metadata": {},
   "source": [
    "### Q13. JSONファイルの扱い\n",
    "data/file_handling_assignment/kaken2017フォルダの中には、2017年度[科学研究費助成事業（学術研究助成基金助成金／科学研究費補助金）](https://www.jsps.go.jp/j-grantsinaid/)採択プロジェクトのうち、情報学分野に関連したプロジェクトの情報について記したJSONファイルがある。各ファイルには、以下の項目が記されている：\n",
    "* url: プロジェクトの詳細を示したURL\n",
    "* kaken_id: プロジェクトID\n",
    "* project_name: プロジェクト名\n",
    "* grant_category: プロジェクトの申請カテゴリ（例: 若手研究B）\n",
    "* fields: 研究分野\n",
    "* keywords: プロジェクトのキーワード\n",
    "* budget: プロジェクトの予算規模（円）\n",
    "* principal_investigator: 研究代表者に関する情報\n",
    "\n",
    "17K17832.jsonファイルを読み込み、プロジェクトID17K1832の研究代表者、プロジェクト名、予算規模を表示せよ。\n",
    "\n",
    "\n",
    "（ヒント）jsonモジュールを使う。"
   ]
  },
  {
   "cell_type": "code",
   "execution_count": null,
   "metadata": {},
   "outputs": [],
   "source": [
    "import json\n",
    "\n",
    "with open(\"../data/file_handling_assignment/kaken2017/17K17832.json\") as json_file:\n",
    "    json_obj = json.load(json_file)\n",
    "    print(\"プロジェクト名:\", json_obj[\"project_name\"])\n",
    "    print(\"研究代表者:\", json_obj[\"principal_investigator\"][\"name\"])\n",
    "    print(\"予算規模:\", json_obj[\"budget\"], \"円\")"
   ]
  },
  {
   "cell_type": "markdown",
   "metadata": {},
   "source": [
    "### Q14. ファイル一覧の取得\n",
    "data/kaken2017フォルダにあるJSONファイルの情報を使って、2017年度に各研究機関が獲得した情報学分野における研究費の合計金額を求めよ。さらに、合計獲得金額の上位20機関を表示せよ。\n",
    "\n",
    "（ヒント）osモジュールを使う。"
   ]
  },
  {
   "cell_type": "code",
   "execution_count": null,
   "metadata": {},
   "outputs": [],
   "source": [
    "import os\n",
    "import json\n",
    "\n",
    "budgets = {}\n",
    "for line in os.listdir(\"../data/file_handling_assignment/kaken2017\"):\n",
    "    filename = line.rstrip()\n",
    "    \n",
    "    with open(\"../data/file_handling_assignment/kaken2017/%s\" % filename) as json_file:\n",
    "        if filename.endswith(\".json\"):\n",
    "            json_obj = json.load(json_file)\n",
    "            affiliation = json_obj[\"principal_investigator\"][\"affiliation\"]\n",
    "            budget = int(json_obj[\"budget\"])\n",
    "            budgets.setdefault(affiliation, 0)\n",
    "            budgets[affiliation] += budget\n",
    "\n",
    "            \n",
    "sorted_budgets = sorted(budgets.items(), key=lambda x: x[1], reverse=True)\n",
    "for rank, (affiliation, budget) in enumerate(sorted_budgets):\n",
    "    if rank >= 20:\n",
    "        break\n",
    "    else:\n",
    "        message = \"{affiliation}\\t{budget}円\".format(affiliation=affiliation, budget=budget)\n",
    "        print(message)"
   ]
  },
  {
   "cell_type": "markdown",
   "metadata": {},
   "source": [
    "### Q15. XMLファイルのパース1\n",
    "data/file_handling_assignmentディレクトリにあるbig-cities-pageviews.xmlは、日本語版Wikipediaにある政令指定都市の記事に対するアクセス数（2017/11/29 - 2017/12/04）が記載されている。\n",
    "\n",
    "当該XMLファイルには、以下に関するノードが含まれている:\n",
    "* page: 各政令指定都市に関するWikipedia記事に関する情報をまとめたノード\n",
    "* pageviews: アクセス数に関する情報をまとめたノード\n",
    "* pvip: ある日のアクセススに関する情報を示すノード\n",
    "\n",
    "big-cities-pageviews.xmlを読み込み、pageノードのid属性が1642589のWikipedia記事のタイトル（都市名）を表示せよ。\n",
    "\n",
    "（ヒント）pyqueryモジュールを利用する。"
   ]
  },
  {
   "cell_type": "code",
   "execution_count": null,
   "metadata": {},
   "outputs": [],
   "source": [
    "from pyquery import PyQuery as pq\n",
    "\n",
    "with open(\"../data/file_handling_assignment/big-cities-pageviews.xml\") as xml_file:\n",
    "    dom = pq(xml_file.read(), parser='xml')\n",
    "    for page_dom in dom(\"page\").items():\n",
    "        page_id = page_dom.attr(\"pageid\")\n",
    "        title = page_dom.attr(\"title\")\n",
    "        \n",
    "        if page_id == \"1642589\":\n",
    "            print(page_dom.attr(\"title\"))\n",
    "            break"
   ]
  },
  {
   "cell_type": "markdown",
   "metadata": {},
   "source": [
    "### Q16. XMLファイルのパース2\n",
    "data/file_handling_assignmentディレクトリにあるbig-cities-pageviews.xmlを読み込み、政令指定都市の記事に対するアクセス数の合計値（2017/11/29 - 2017/12/04）を各都市ごとに表示せよ。"
   ]
  },
  {
   "cell_type": "code",
   "execution_count": null,
   "metadata": {},
   "outputs": [],
   "source": [
    "from pyquery import PyQuery as pq\n",
    "\n",
    "pageviews = {}\n",
    "\n",
    "with open(\"../data/file_handling_assignment/big-cities-pageviews.xml\") as xml_file:\n",
    "    dom = pq(xml_file.read(), parser='xml')\n",
    "    for page_dom in dom(\"page\").items():\n",
    "        page_id = page_dom.attr(\"pageid\")\n",
    "        title = page_dom.attr(\"title\")\n",
    "        \n",
    "        for pageview_dom in page_dom(\"pageviews pvip\").items():\n",
    "            pageview = int(pageview_dom.text())\n",
    "            pageviews.setdefault(title, 0)\n",
    "            pageviews[title] += pageview\n",
    "\n",
    "print(pageviews)"
   ]
  },
  {
   "cell_type": "markdown",
   "metadata": {},
   "source": [
    "### Q17. 正規表現1（URL抽出）\n",
    "data/file_handling_assignmentディレクトリにあるhamamtsu.txtは、[浜松市に関するWikipedia記事](https://ja.wikipedia.org/wiki/%E6%B5%9C%E6%9D%BE%E5%B8%82)について[MediaWiki記法](https://ja.wikipedia.org/wiki/Help:早見表)で記述されたテキストである（2017年12月6日時点の内容）。hamamatsu.txtからWikipediaサイトからの外部リンク（httpもしくはhttpsから始まるURL）をすべて取得せよ。"
   ]
  },
  {
   "cell_type": "code",
   "execution_count": null,
   "metadata": {},
   "outputs": [],
   "source": [
    "import re\n",
    "\n",
    "urls = []\n",
    "with open(\"../data/file_handling_assignment/hamamatsu.txt\") as h_file:\n",
    "    content = h_file.read()\n",
    "    reg = re.compile(r\"https?://[\\w/:%#\\$&\\?\\(\\)~\\.=\\+\\-]+\")\n",
    "    urls = reg.findall(content)\n",
    "    \n",
    "for url in urls:\n",
    "    print(url)"
   ]
  },
  {
   "cell_type": "markdown",
   "metadata": {},
   "source": [
    "### Q18. 正規表現2（カテゴリ抽出）\n",
    "[Category:静岡県の市町村](https://ja.wikipedia.org/wiki/Category:%E9%9D%99%E5%B2%A1%E7%9C%8C%E3%81%AE%E5%B8%82%E7%94%BA%E6%9D%91)のように、Wikipediaではカテゴリが割り当てられた記事がある。[MediaWiki記法](https://ja.wikipedia.org/wiki/Help:早見表)を参考に、data/file_handling_assignmentディレクトリにあるhamamtsu.txt（浜松市に関するWikipedia記事）に割り当てられたカテゴリ名を抽出せよ（[言語処理100本ノック Q22から出題](http://www.cl.ecei.tohoku.ac.jp/nlp100/)）。"
   ]
  },
  {
   "cell_type": "code",
   "execution_count": null,
   "metadata": {},
   "outputs": [],
   "source": [
    "import re\n",
    "\n",
    "categories = []\n",
    "with open(\"../data/file_handling_assignment/hamamatsu.txt\") as h_file:\n",
    "    content = h_file.read()\n",
    "    reg = re.compile(r\"\\[\\[Category:(.+?)\\]\\]\")\n",
    "    categories = reg.findall(content)\n",
    "    categories = [re.sub(r'\\|.+', '', c) for c in categories]\n",
    "    \n",
    "for category in categories:\n",
    "    print(category)"
   ]
  },
  {
   "cell_type": "markdown",
   "metadata": {},
   "source": [
    "### Q19. 正規表現3（テンプレート予測 & 抽出）\n",
    "data/file_handling_assignmentディレクトリにあるhamamtsu.txt（浜松市に関するWikipedia記事）中に、浜松市における1-12月中の平均最高気温、平均最低気温について記された箇所がある。各月の平均最高気温、最低気温はあるフォーマットに基づき記述されている。\n",
    "\n",
    "各月の平均最高気温、最低気温を正規表現を用いて抽出し、hamamatsu_temperature.tsvという名前のTSVファイルに保存せよ。なお、TSVファイルのフォーマットは以下の様式に従うこと。\n",
    "\n",
    "|type|month|temperature|\n",
    "|----|---- |\n",
    "|最高|Jan|10.1|\n",
    "|...|...|...|\n",
    "|最低|Jan|2.5|\n",
    "|...|...|...|"
   ]
  },
  {
   "cell_type": "code",
   "execution_count": null,
   "metadata": {},
   "outputs": [],
   "source": [
    "import re\n",
    "\n",
    "temperatures = []\n",
    "with open(\"../data/file_handling_assignment/hamamatsu.txt\") as h_file:\n",
    "    content = h_file.read()\n",
    "    reg = re.compile(r\"\\|([A-Z]?[a-z]{2}) (high|low) C = (.+?)\\n\")\n",
    "    temperatures = reg.findall(content)\n",
    "\n",
    "with open(\"../data/output/hamamatsu_temperature.tsv\", \"w+\") as t_file:\n",
    "    t_file.write(\"type\\tmonth\\ttemperature\\n\")\n",
    "    for _month, _type, _temp in temperatures:\n",
    "        if _type == \"high\":\n",
    "            t_file.write(\"最高\\t{_month}\\t{_temp}\\n\".format(_month=_month, _temp=_temp))\n",
    "        else:\n",
    "            t_file.write(\"最低\\t{_month}\\t{_temp}\\n\".format(_month=_month, _temp=_temp))            "
   ]
  },
  {
   "cell_type": "markdown",
   "metadata": {},
   "source": [
    "### Q20. 対訳 by 文字列置換\n",
    "data/file_handling_assignmentディレクトリにあるdictionary.csvには、ある言語の語彙（other_languageカラム）と英語の語彙（englishカラム）の対応関係が1行ごとに記されている。dictonary.tsvを用いて、以下の文章を英語に変換せよ。なお、dictionary.tsvの1行目はヘッダーであり、2行目以降に単語の対応関係が記されていることに注意せよ。なお、変換後の文字列はすべて小文字で構成されていても問題ない。\n",
    "\n",
    "> Herzlichen Glückwunsch zum Erreichen der zwanzig Aufgaben! Nächsten Aufgaben sind praktischer für Ihre Forschungsaktivitäten. Habe Spaß!"
   ]
  },
  {
   "cell_type": "code",
   "execution_count": null,
   "metadata": {},
   "outputs": [],
   "source": [
    "import csv\n",
    "\n",
    "target_sentence = \"Herzlichen Glückwunsch zum Erreichen der zwanzig Aufgaben! Nächsten Aufgaben sind praktischer für Ihre Forschungsaktivitäten. Habe Spaß!\"\n",
    "target_sentence = target_sentence.lower()\n",
    "\n",
    "with open(\"../data/file_handling_assignment/dictionary.csv\") as dict_file:\n",
    "    reader = csv.reader(dict_file)\n",
    "    header = next(reader)\n",
    "    \n",
    "    for o_word, e_word in reader:\n",
    "        target_sentence = target_sentence.replace(o_word, e_word)\n",
    "        \n",
    "print(target_sentence)\n",
    "        "
   ]
  }
 ],
 "metadata": {
  "kernelspec": {
   "display_name": "Python 3",
   "language": "python",
   "name": "python3"
  },
  "language_info": {
   "codemirror_mode": {
    "name": "ipython",
    "version": 3
   },
   "file_extension": ".py",
   "mimetype": "text/x-python",
   "name": "python",
   "nbconvert_exporter": "python",
   "pygments_lexer": "ipython3",
   "version": "3.6.6"
  }
 },
 "nbformat": 4,
 "nbformat_minor": 2
}

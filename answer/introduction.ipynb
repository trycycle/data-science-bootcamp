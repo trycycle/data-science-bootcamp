{
 "cells": [
  {
   "cell_type": "markdown",
   "metadata": {},
   "source": [
    "# 準備運動"
   ]
  },
  {
   "cell_type": "markdown",
   "metadata": {},
   "source": [
    "### Q1. 数列の和\n",
    "1からNまでの整数和を求める関数calc_sumを作成せよ。"
   ]
  },
  {
   "cell_type": "code",
   "execution_count": 14,
   "metadata": {},
   "outputs": [
    {
     "name": "stdout",
     "output_type": "stream",
     "text": [
      "55\n"
     ]
    }
   ],
   "source": [
    "def calc_sum(n):\n",
    "    result = 0\n",
    "    for i in range(n):\n",
    "        result += i + 1\n",
    "    return result\n",
    "\n",
    "# 1から10までの整数の和を求めてみる\n",
    "print(calc_sum(10))"
   ]
  },
  {
   "cell_type": "markdown",
   "metadata": {},
   "source": [
    "### Q2. 平方根\n",
    "97の正の平方根をmathモジュールを使わずに力づくで求めよ。なお、求める解は、その二乗と97との差が0.001以内に収まるように求めよ。"
   ]
  },
  {
   "cell_type": "code",
   "execution_count": 2,
   "metadata": {},
   "outputs": [
    {
     "name": "stdout",
     "output_type": "stream",
     "text": [
      "9.848899999990385\n"
     ]
    }
   ],
   "source": [
    "root = 0\n",
    "\n",
    "while True:\n",
    "    delta = abs(97 - root ** 2)\n",
    "    if delta < 0.001:\n",
    "        break\n",
    "    else:\n",
    "        root += 0.0001\n",
    "        \n",
    "print(root)"
   ]
  },
  {
   "cell_type": "markdown",
   "metadata": {},
   "source": [
    "### Q3. 文の表示\n",
    "変数x, yを受け取り「xの価格はy円（税込）」という文字列を返す関数を作成せよ（[言語処理100本ノック2015 Q.7](http://www.cl.ecei.tohoku.ac.jp/nlp100/)改題）。"
   ]
  },
  {
   "cell_type": "code",
   "execution_count": 3,
   "metadata": {},
   "outputs": [
    {
     "data": {
      "text/plain": [
       "'リンゴの価格は97円（税抜）'"
      ]
     },
     "execution_count": 3,
     "metadata": {},
     "output_type": "execute_result"
    }
   ],
   "source": [
    "def show_price(x, y):\n",
    "    text = \"{product}の価格は{price}円（税抜）\".format(product=x, price=y)\n",
    "    return text\n",
    "\n",
    "show_price(\"リンゴ\", \"97\")"
   ]
  },
  {
   "cell_type": "markdown",
   "metadata": {},
   "source": [
    "### Q4. 回文\n",
    "文字列\"Rats live on no evil star\"の文字を逆に並べた文字列を表示せよ。"
   ]
  },
  {
   "cell_type": "code",
   "execution_count": 4,
   "metadata": {},
   "outputs": [
    {
     "name": "stdout",
     "output_type": "stream",
     "text": [
      "rats live on no evil staR\n"
     ]
    }
   ],
   "source": [
    "text = \"Rats live on no evil star\"\n",
    "\n",
    "reversed_text = \"\"\n",
    "for i in range(len(text)):\n",
    "    reversed_text += text[len(text) - i - 1]\n",
    "    \n",
    "print(reversed_text)"
   ]
  },
  {
   "cell_type": "code",
   "execution_count": 5,
   "metadata": {},
   "outputs": [
    {
     "name": "stdout",
     "output_type": "stream",
     "text": [
      "rats live on no evil staR\n"
     ]
    }
   ],
   "source": [
    "# 別解1\n",
    "chars = list(text)\n",
    "result = \"\"\n",
    "for i in range(len(chars)):\n",
    "    result += chars.pop()\n",
    "print(result)"
   ]
  },
  {
   "cell_type": "code",
   "execution_count": 6,
   "metadata": {},
   "outputs": [
    {
     "name": "stdout",
     "output_type": "stream",
     "text": [
      "rats live on no evil staR\n"
     ]
    }
   ],
   "source": [
    "# 別解2\n",
    "chars = list(text)\n",
    "chars.reverse()\n",
    "result = \"\".join(chars)\n",
    "print(result)"
   ]
  },
  {
   "cell_type": "markdown",
   "metadata": {},
   "source": [
    "### Q5. 円周率\n",
    "\"Now I need a drink, alcoholic of course, after the heavy lectures involving quantum mechanics.\"という文を単語に分解し、各単語の（アルファベットの）文字数を先頭から出現順に並べたリストを作成せよ（[言語処理100本ノック 2015 Q.3](http://www.cl.ecei.tohoku.ac.jp/nlp100/)より）。"
   ]
  },
  {
   "cell_type": "code",
   "execution_count": 7,
   "metadata": {},
   "outputs": [
    {
     "name": "stdout",
     "output_type": "stream",
     "text": [
      "[3, 1, 4, 1, 5, 9, 2, 6, 5, 3, 5, 8, 9, 7, 9]\n"
     ]
    }
   ],
   "source": [
    "text = \"Now I need a drink, alcoholic of course, after the heavy lectures involving quantum mechanics\"\n",
    "\n",
    "words = text.replace(\",\", \"\").split(\" \")\n",
    "lengths = []\n",
    "for word in words:\n",
    "    length = len(word)\n",
    "    lengths.append(length)\n",
    "print(lengths)"
   ]
  },
  {
   "cell_type": "markdown",
   "metadata": {},
   "source": [
    "### Q6. 文字カウント\n",
    "任意の文字列に含まれる文字の出現頻度を求める関数count_charを作成せよ。なお、返り値は、キーが文字、値が出現頻度に対応した辞書オブジェクト形式にせよ（例：\"I have a pen\" -> {'I': 1, ' ': 3, 'h': 1, 'a': 2, 'v': 1, 'e': 2, 'p': 1, 'n': 1}）。\n",
    "\n",
    "（ヒント）\n",
    "ある文字列sが与えられたとき、list(s)はsを1文字ずつ分解したリストを返す。"
   ]
  },
  {
   "cell_type": "code",
   "execution_count": 8,
   "metadata": {},
   "outputs": [
    {
     "name": "stdout",
     "output_type": "stream",
     "text": [
      "apple\n",
      "orange\n",
      "melon\n",
      "apple\n",
      "orange\n",
      "melon\n"
     ]
    }
   ],
   "source": [
    "products = [\"apple\", \"orange\", \"melon\"]\n",
    "length = len(products)\n",
    "\n",
    "for i in range(length):\n",
    "    print(products[i])\n",
    "    \n",
    "for product in products:\n",
    "    print(product)"
   ]
  },
  {
   "cell_type": "code",
   "execution_count": 9,
   "metadata": {},
   "outputs": [
    {
     "name": "stdout",
     "output_type": "stream",
     "text": [
      "任意の文字列を入力してください:任意の文字列を入力してください\n",
      "{'任': 1, '意': 1, 'の': 1, '文': 1, '字': 1, '列': 1, 'を': 1, '入': 1, '力': 1, 'し': 1, 'て': 1, 'く': 1, 'だ': 1, 'さ': 1, 'い': 1}\n"
     ]
    }
   ],
   "source": [
    "def count_char(text):\n",
    "    chars = list(text)\n",
    "    frequency = {}\n",
    "    for char in chars:\n",
    "        frequency.setdefault(char, 0)\n",
    "        frequency[char] += 1\n",
    "    return frequency\n",
    "\n",
    "text = input(\"任意の文字列を入力してください:\")\n",
    "frequency = count_char(text)\n",
    "print(frequency)"
   ]
  },
  {
   "cell_type": "markdown",
   "metadata": {},
   "source": [
    "### Q7. CSVファイルの読み込み\n",
    "data/introduction_assignmentディレクトリにあるからpopulation-abstract2010-2015.csvをPythonから読み込み、その内容を一行ずつ表示せよ。\n",
    "\n",
    "（留意事項）\n",
    "当該CSVファイルは「[平成27年度国勢調査の総人口・世帯数](http://www.e-stat.go.jp/SG1/estat/GL08020103.do?_csvDownload_&fileId=000008040403&releaseCount=3)データ」の一部を抽出・加工したものです。\n"
   ]
  },
  {
   "cell_type": "code",
   "execution_count": 10,
   "metadata": {},
   "outputs": [
    {
     "name": "stdout",
     "output_type": "stream",
     "text": [
      "id,area_name,population2015,population2010,household2015,household2010\n",
      "1000,北海道,5381733,5506419,2444810,2424317\n",
      "2000,青森県,1308265,1373339,510945,513385\n",
      "3000,岩手県,1279594,1330147,493049,483934\n",
      "4000,宮城県,2333899,2348165,944720,901862\n",
      "5000,秋田県,1023119,1085997,388560,390136\n",
      "6000,山形県,1123891,1168924,393396,388608\n",
      "7000,福島県,1914039,2029064,737598,720794\n",
      "8000,茨城県,2916976,2969770,1124349,1088411\n",
      "9000,栃木県,1974255,2007683,763097,745604\n",
      "10000,群馬県,1973115,2008068,773952,755756\n",
      "11000,埼玉県,7266534,7194556,2971659,2841595\n",
      "12000,千葉県,6222666,6216289,2609132,2515904\n",
      "13000,東京都,13515271,13159417,6701122,6393781\n",
      "14000,神奈川県,9126214,9048302,3979278,3844512\n",
      "15000,新潟県,2304264,2374450,848150,839039\n",
      "16000,富山県,1066328,1093247,391171,383439\n",
      "17000,石川県,1154008,1169788,453368,441170\n",
      "18000,福井県,786740,806314,279687,275599\n",
      "19000,山梨県,834930,863075,330976,327721\n",
      "20000,長野県,2098804,2152449,807108,794461\n",
      "21000,岐阜県,2031903,2080773,753212,737151\n",
      "22000,静岡県,3700305,3765007,1429600,1399140\n",
      "23000,愛知県,7483128,7410719,3063833,2933802\n",
      "24000,三重県,1815865,1854724,720292,704607\n",
      "25000,滋賀県,1412916,1410777,537550,517748\n",
      "26000,京都府,2610353,2636092,1152902,1122057\n",
      "27000,大阪府,8839469,8865245,3923887,3832386\n",
      "28000,兵庫県,5534800,5588133,2315200,2255318\n",
      "29000,奈良県,1364316,1400728,530221,523523\n",
      "30000,和歌山県,963579,1002198,392332,393553\n",
      "31000,鳥取県,573441,588667,216894,211964\n",
      "32000,島根県,694352,717397,265008,262219\n",
      "33000,岡山県,1921525,1945276,772977,754511\n",
      "34000,広島県,2843990,2860750,1211425,1184967\n",
      "35000,山口県,1404729,1451338,598834,597432\n",
      "36000,徳島県,755733,785491,305754,302294\n",
      "37000,香川県,976263,995842,398551,390474\n",
      "38000,愛媛県,1385262,1431493,591972,590888\n",
      "39000,高知県,728276,764456,319011,321909\n",
      "40000,福岡県,5101556,5071968,2201037,2110468\n",
      "41000,佐賀県,832832,849788,302109,295038\n",
      "42000,長崎県,1377187,1426779,560720,558660\n",
      "43000,熊本県,1786170,1817426,704730,688234\n",
      "44000,大分県,1166338,1196529,486535,482051\n",
      "45000,宮崎県,1104069,1135233,462858,460505\n",
      "46000,鹿児島県,1648177,1706242,724690,729386\n",
      "47000,沖縄県,1433566,1392818,560424,520191\n"
     ]
    }
   ],
   "source": [
    "with open(\"../data/introduction_assignment/population-abstract2010-2015.csv\") as cfile:\n",
    "    for line in cfile:\n",
    "        print(line.rstrip())"
   ]
  },
  {
   "cell_type": "markdown",
   "metadata": {},
   "source": [
    "### Q8. CSVファイルからのデータの切り出し\n",
    "Q7で用いたCSVファイルは、下記項目からなる人口統計データである。当該CSVデータから、都道府県名をキー、2015年調査時と2010年調査時の人口増減数を値とする辞書オブジェクトpopulationを作成せよ。\n",
    "* id\n",
    "* 都道府県名（area_name）\n",
    "* 2015年度調査時の人口（population2015）\n",
    "* 2010年度調査時の人口（population2010）\n",
    "* 2015年度調査時の世帯数（household2015）\n",
    "* 2015年度調査時の世帯数（household2010）"
   ]
  },
  {
   "cell_type": "code",
   "execution_count": 11,
   "metadata": {},
   "outputs": [
    {
     "name": "stdout",
     "output_type": "stream",
     "text": [
      "{'北海道': 124686, '青森県': 65074, '岩手県': 50553, '宮城県': 14266, '秋田県': 62878, '山形県': 45033, '福島県': 115025, '茨城県': 52794, '栃木県': 33428, '群馬県': 34953, '埼玉県': -71978, '千葉県': -6377, '東京都': -355854, '神奈川県': -77912, '新潟県': 70186, '富山県': 26919, '石川県': 15780, '福井県': 19574, '山梨県': 28145, '長野県': 53645, '岐阜県': 48870, '静岡県': 64702, '愛知県': -72409, '三重県': 38859, '滋賀県': -2139, '京都府': 25739, '大阪府': 25776, '兵庫県': 53333, '奈良県': 36412, '和歌山県': 38619, '鳥取県': 15226, '島根県': 23045, '岡山県': 23751, '広島県': 16760, '山口県': 46609, '徳島県': 29758, '香川県': 19579, '愛媛県': 46231, '高知県': 36180, '福岡県': -29588, '佐賀県': 16956, '長崎県': 49592, '熊本県': 31256, '大分県': 30191, '宮崎県': 31164, '鹿児島県': 58065, '沖縄県': -40748}\n"
     ]
    }
   ],
   "source": [
    "import csv\n",
    "\n",
    "population = {}\n",
    "with open('../data/introduction_assignment/population-abstract2010-2015.csv') as cfile:\n",
    "    reader = csv.reader(cfile)\n",
    "    header = next(reader)\n",
    "\n",
    "    for row in reader:\n",
    "        area_name = row[1]\n",
    "        delta = int(row[3]) - int(row[2])\n",
    "        population[area_name] = delta\n",
    "\n",
    "print(population)        "
   ]
  },
  {
   "cell_type": "markdown",
   "metadata": {},
   "source": [
    "### Q9. 辞書オブジェクトのソート\n",
    "Q7で用いたCSVファイルを利用して、2010年度調査から2015年度調査の間で人口増減数が大きかった都道府県を増減数付で上位10件を表示せよ。表示は「30位: 京都府（25739人）」という形式で行うこと。"
   ]
  },
  {
   "cell_type": "code",
   "execution_count": 12,
   "metadata": {},
   "outputs": [
    {
     "name": "stdout",
     "output_type": "stream",
     "text": [
      "1位: 北海道（124686人）\n",
      "2位: 福島県（115025人）\n",
      "3位: 新潟県（70186人）\n",
      "4位: 青森県（65074人）\n",
      "5位: 静岡県（64702人）\n",
      "6位: 秋田県（62878人）\n",
      "7位: 鹿児島県（58065人）\n",
      "8位: 長野県（53645人）\n",
      "9位: 兵庫県（53333人）\n",
      "10位: 茨城県（52794人）\n"
     ]
    }
   ],
   "source": [
    "sorted_population = sorted(population.items(), key=lambda x: x[1], reverse=True)\n",
    "\n",
    "rank = 1\n",
    "for area_name, num in sorted_population:\n",
    "    if rank > 10:\n",
    "        break\n",
    "    else:\n",
    "        message = \"{rank}位: {area_name}（{num}人）\".format(rank=rank, area_name=area_name, num=num)\n",
    "        print(message)\n",
    "    rank += 1"
   ]
  },
  {
   "cell_type": "markdown",
   "metadata": {},
   "source": [
    "### Q10. ファイルの書き込み・保存\n",
    "Q7,Q8,Q9で用いた2015年度の国勢調査データを用いて、都道府県名、各都道府県の2010年度調査から2015年度調査の間で人口増減数について、TSV形式でファイル保存せよ。"
   ]
  },
  {
   "cell_type": "code",
   "execution_count": 13,
   "metadata": {},
   "outputs": [],
   "source": [
    "with open(\"../data/output/population-delta.tsv\", \"w+\") as tfile:\n",
    "    for area_name, delta in sorted_population:\n",
    "        row = \"{area_name}\\t{delta}\\n\".format(area_name=area_name, delta=delta)\n",
    "        tfile.write(row)"
   ]
  },
  {
   "cell_type": "code",
   "execution_count": null,
   "metadata": {},
   "outputs": [],
   "source": []
  }
 ],
 "metadata": {
  "kernelspec": {
   "display_name": "Python 3",
   "language": "python",
   "name": "python3"
  },
  "language_info": {
   "codemirror_mode": {
    "name": "ipython",
    "version": 3
   },
   "file_extension": ".py",
   "mimetype": "text/x-python",
   "name": "python",
   "nbconvert_exporter": "python",
   "pygments_lexer": "ipython3",
   "version": "3.6.3"
  }
 },
 "nbformat": 4,
 "nbformat_minor": 2
}
